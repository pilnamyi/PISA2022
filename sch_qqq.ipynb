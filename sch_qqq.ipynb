{
 "cells": [
  {
   "cell_type": "code",
   "execution_count": 12,
   "id": "7c8156e9",
   "metadata": {},
   "outputs": [],
   "source": [
    "import pandas as pd\n",
    "import pyreadstat"
   ]
  },
  {
   "cell_type": "code",
   "execution_count": 13,
   "id": "5bfdb36d",
   "metadata": {},
   "outputs": [
    {
     "ename": "KeyboardInterrupt",
     "evalue": "",
     "output_type": "error",
     "traceback": [
      "\u001b[0;31m---------------------------------------------------------------------------\u001b[0m",
      "\u001b[0;31mKeyboardInterrupt\u001b[0m                         Traceback (most recent call last)",
      "\u001b[0;32m/tmp/ipykernel_3422/2630227507.py\u001b[0m in \u001b[0;36m?\u001b[0;34m()\u001b[0m\n\u001b[1;32m      6\u001b[0m \u001b[0;31m# Read in chunks of 10,000 rows\u001b[0m\u001b[0;34m\u001b[0m\u001b[0;34m\u001b[0m\u001b[0m\n\u001b[1;32m      7\u001b[0m \u001b[0mreader\u001b[0m \u001b[0;34m=\u001b[0m \u001b[0mpyreadstat\u001b[0m\u001b[0;34m.\u001b[0m\u001b[0mread_file_in_chunks\u001b[0m\u001b[0;34m(\u001b[0m\u001b[0mpyreadstat\u001b[0m\u001b[0;34m.\u001b[0m\u001b[0mread_sav\u001b[0m\u001b[0;34m,\u001b[0m \u001b[0mfpath\u001b[0m\u001b[0;34m,\u001b[0m \u001b[0mchunksize\u001b[0m\u001b[0;34m=\u001b[0m\u001b[0;36m10000\u001b[0m\u001b[0;34m)\u001b[0m\u001b[0;34m\u001b[0m\u001b[0;34m\u001b[0m\u001b[0m\n\u001b[1;32m      8\u001b[0m \u001b[0;34m\u001b[0m\u001b[0m\n\u001b[1;32m      9\u001b[0m \u001b[0mcnt\u001b[0m \u001b[0;34m=\u001b[0m \u001b[0;36m0\u001b[0m\u001b[0;34m\u001b[0m\u001b[0;34m\u001b[0m\u001b[0m\n\u001b[0;32m---> 10\u001b[0;31m \u001b[0;32mfor\u001b[0m \u001b[0mdf_chunk\u001b[0m\u001b[0;34m,\u001b[0m \u001b[0mmeta\u001b[0m \u001b[0;32min\u001b[0m \u001b[0mreader\u001b[0m\u001b[0;34m:\u001b[0m\u001b[0;34m\u001b[0m\u001b[0;34m\u001b[0m\u001b[0m\n\u001b[0m\u001b[1;32m     11\u001b[0m     \u001b[0mmode\u001b[0m \u001b[0;34m=\u001b[0m \u001b[0;34m\"a\"\u001b[0m \u001b[0;32mif\u001b[0m \u001b[0mcnt\u001b[0m \u001b[0;34m>\u001b[0m \u001b[0;36m0\u001b[0m \u001b[0;32melse\u001b[0m \u001b[0;34m\"w\"\u001b[0m\u001b[0;34m\u001b[0m\u001b[0;34m\u001b[0m\u001b[0m\n\u001b[1;32m     12\u001b[0m     \u001b[0mheader\u001b[0m \u001b[0;34m=\u001b[0m \u001b[0;32mFalse\u001b[0m \u001b[0;32mif\u001b[0m \u001b[0mcnt\u001b[0m \u001b[0;34m>\u001b[0m \u001b[0;36m0\u001b[0m \u001b[0;32melse\u001b[0m \u001b[0;32mTrue\u001b[0m\u001b[0;34m\u001b[0m\u001b[0;34m\u001b[0m\u001b[0m\n\u001b[1;32m     13\u001b[0m     \u001b[0mdf_chunk\u001b[0m\u001b[0;34m.\u001b[0m\u001b[0mto_csv\u001b[0m\u001b[0;34m(\u001b[0m\u001b[0moutpath\u001b[0m\u001b[0;34m,\u001b[0m \u001b[0mmode\u001b[0m\u001b[0;34m=\u001b[0m\u001b[0mmode\u001b[0m\u001b[0;34m,\u001b[0m \u001b[0mheader\u001b[0m\u001b[0;34m=\u001b[0m\u001b[0mheader\u001b[0m\u001b[0;34m,\u001b[0m \u001b[0mindex\u001b[0m\u001b[0;34m=\u001b[0m\u001b[0;32mFalse\u001b[0m\u001b[0;34m)\u001b[0m\u001b[0;34m\u001b[0m\u001b[0;34m\u001b[0m\u001b[0m\n",
      "\u001b[0;32mpyreadstat/pyreadstat.pyx\u001b[0m in \u001b[0;36m?\u001b[0;34m()\u001b[0m\n\u001b[0;32m--> 624\u001b[0;31m \u001b[0;34m'Could not get source, probably due dynamically evaluated source code.'\u001b[0m\u001b[0;34m\u001b[0m\u001b[0;34m\u001b[0m\u001b[0m\n\u001b[0m",
      "\u001b[0;32mpyreadstat/pyreadstat.pyx\u001b[0m in \u001b[0;36m?\u001b[0;34m()\u001b[0m\n\u001b[0;32m--> 396\u001b[0;31m \u001b[0;34m'Could not get source, probably due dynamically evaluated source code.'\u001b[0m\u001b[0;34m\u001b[0m\u001b[0;34m\u001b[0m\u001b[0m\n\u001b[0m",
      "\u001b[0;32mpyreadstat/_readstat_parser.pyx\u001b[0m in \u001b[0;36m?\u001b[0;34m()\u001b[0m\n\u001b[0;32m-> 1181\u001b[0;31m \u001b[0;34m'Could not get source, probably due dynamically evaluated source code.'\u001b[0m\u001b[0;34m\u001b[0m\u001b[0;34m\u001b[0m\u001b[0m\n\u001b[0m",
      "\u001b[0;32mpyreadstat/_readstat_parser.pyx\u001b[0m in \u001b[0;36m?\u001b[0;34m()\u001b[0m\n\u001b[0;32m--> 960\u001b[0;31m \u001b[0;34m'Could not get source, probably due dynamically evaluated source code.'\u001b[0m\u001b[0;34m\u001b[0m\u001b[0;34m\u001b[0m\u001b[0m\n\u001b[0m",
      "\u001b[0;32m~/miniconda3/lib/python3.12/site-packages/pandas/core/frame.py\u001b[0m in \u001b[0;36m?\u001b[0;34m(cls, data, orient, dtype, columns)\u001b[0m\n\u001b[0;32m-> 1805\u001b[0;31m     \u001b[0;34m@\u001b[0m\u001b[0mclassmethod\u001b[0m\u001b[0;34m\u001b[0m\u001b[0;34m\u001b[0m\u001b[0m\n\u001b[0m\u001b[1;32m   1806\u001b[0m     def from_dict(\n\u001b[1;32m   1807\u001b[0m         \u001b[0mcls\u001b[0m\u001b[0;34m,\u001b[0m\u001b[0;34m\u001b[0m\u001b[0;34m\u001b[0m\u001b[0m\n\u001b[1;32m   1808\u001b[0m         \u001b[0mdata\u001b[0m\u001b[0;34m:\u001b[0m \u001b[0mdict\u001b[0m\u001b[0;34m,\u001b[0m\u001b[0;34m\u001b[0m\u001b[0;34m\u001b[0m\u001b[0m\n",
      "\u001b[0;31mKeyboardInterrupt\u001b[0m: "
     ]
    }
   ],
   "source": [
    "import pyreadstat\n",
    "\n",
    "fpath = \"CY08MSP_STU_QQQ.sav\"\n",
    "outpath = \"CY08MSP_STU_QQQ.csv\"\n",
    "\n",
    "# Read in chunks of 10,000 rows\n",
    "reader = pyreadstat.read_file_in_chunks(pyreadstat.read_sav, fpath, chunksize=10000)\n",
    "\n",
    "cnt = 0\n",
    "for df_chunk, meta in reader:\n",
    "    mode = \"a\" if cnt > 0 else \"w\"\n",
    "    header = False if cnt > 0 else True\n",
    "    df_chunk.to_csv(outpath, mode=mode, header=header, index=False)\n",
    "    cnt += 1\n"
   ]
  },
  {
   "cell_type": "code",
   "execution_count": null,
   "id": "14e28980",
   "metadata": {},
   "outputs": [],
   "source": []
  },
  {
   "cell_type": "code",
   "execution_count": null,
   "id": "a0045fb9",
   "metadata": {},
   "outputs": [],
   "source": []
  },
  {
   "cell_type": "code",
   "execution_count": null,
   "id": "a1eca305",
   "metadata": {},
   "outputs": [],
   "source": []
  },
  {
   "cell_type": "code",
   "execution_count": null,
   "id": "134b4bf0",
   "metadata": {},
   "outputs": [],
   "source": []
  },
  {
   "cell_type": "code",
   "execution_count": 2,
   "id": "88b116df",
   "metadata": {},
   "outputs": [],
   "source": [
    "sch_qqq = pd.read_spss('CY08MSP_SCH_QQQ.SAV')"
   ]
  },
  {
   "cell_type": "code",
   "execution_count": 3,
   "id": "2b4382c3",
   "metadata": {},
   "outputs": [
    {
     "data": {
      "text/plain": [
       "(21629, 431)"
      ]
     },
     "execution_count": 3,
     "metadata": {},
     "output_type": "execute_result"
    }
   ],
   "source": [
    "sch_qqq.shape"
   ]
  },
  {
   "cell_type": "code",
   "execution_count": 6,
   "id": "95505bd5",
   "metadata": {},
   "outputs": [
    {
     "data": {
      "text/plain": [
       "Index(['CNT', 'CNTRYID', 'CNTSCHID', 'CYC', 'NatCen', 'STRATUM', 'SUBNATIO',\n",
       "       'REGION', 'OECD', 'ADMINMODE',\n",
       "       ...\n",
       "       'SCSUPRT', 'PROBSCRI', 'SCPREPBP', 'SCPREPAP', 'DIGPREP',\n",
       "       'W_SCHGRNRABWT', 'W_FSTUWT_SCH_SUM', 'W_FSTUWT_SCH_N', 'SENWT',\n",
       "       'VER_DAT'],\n",
       "      dtype='object', length=431)"
      ]
     },
     "execution_count": 6,
     "metadata": {},
     "output_type": "execute_result"
    }
   ],
   "source": [
    "sch_qqq.columns"
   ]
  },
  {
   "cell_type": "code",
   "execution_count": 7,
   "id": "61dc2486",
   "metadata": {},
   "outputs": [
    {
     "data": {
      "text/html": [
       "<div>\n",
       "<style scoped>\n",
       "    .dataframe tbody tr th:only-of-type {\n",
       "        vertical-align: middle;\n",
       "    }\n",
       "\n",
       "    .dataframe tbody tr th {\n",
       "        vertical-align: top;\n",
       "    }\n",
       "\n",
       "    .dataframe thead th {\n",
       "        text-align: right;\n",
       "    }\n",
       "</style>\n",
       "<table border=\"1\" class=\"dataframe\">\n",
       "  <thead>\n",
       "    <tr style=\"text-align: right;\">\n",
       "      <th></th>\n",
       "      <th>CNT</th>\n",
       "      <th>CNTRYID</th>\n",
       "      <th>CNTSCHID</th>\n",
       "      <th>CYC</th>\n",
       "      <th>NatCen</th>\n",
       "      <th>STRATUM</th>\n",
       "      <th>SUBNATIO</th>\n",
       "      <th>REGION</th>\n",
       "      <th>OECD</th>\n",
       "      <th>ADMINMODE</th>\n",
       "      <th>...</th>\n",
       "      <th>SCSUPRT</th>\n",
       "      <th>PROBSCRI</th>\n",
       "      <th>SCPREPBP</th>\n",
       "      <th>SCPREPAP</th>\n",
       "      <th>DIGPREP</th>\n",
       "      <th>W_SCHGRNRABWT</th>\n",
       "      <th>W_FSTUWT_SCH_SUM</th>\n",
       "      <th>W_FSTUWT_SCH_N</th>\n",
       "      <th>SENWT</th>\n",
       "      <th>VER_DAT</th>\n",
       "    </tr>\n",
       "  </thead>\n",
       "  <tbody>\n",
       "    <tr>\n",
       "      <th>0</th>\n",
       "      <td>Albania</td>\n",
       "      <td>Albania</td>\n",
       "      <td>800001.0</td>\n",
       "      <td>08MS</td>\n",
       "      <td>Albania</td>\n",
       "      <td>ALB - stratum 05: Urban / South / Public</td>\n",
       "      <td>Albania</td>\n",
       "      <td>Albania</td>\n",
       "      <td>No</td>\n",
       "      <td>Computer</td>\n",
       "      <td>...</td>\n",
       "      <td>A lot of support from other resources</td>\n",
       "      <td>0.7965</td>\n",
       "      <td>-0.8314</td>\n",
       "      <td>0.8462</td>\n",
       "      <td>0.5908</td>\n",
       "      <td>1.43376</td>\n",
       "      <td>160.58080</td>\n",
       "      <td>41.0</td>\n",
       "      <td>5.76182</td>\n",
       "      <td>03MAY23:10:11:34</td>\n",
       "    </tr>\n",
       "    <tr>\n",
       "      <th>1</th>\n",
       "      <td>Albania</td>\n",
       "      <td>Albania</td>\n",
       "      <td>800002.0</td>\n",
       "      <td>08MS</td>\n",
       "      <td>Albania</td>\n",
       "      <td>ALB - stratum 07: Rural / North / Public and P...</td>\n",
       "      <td>Albania</td>\n",
       "      <td>Albania</td>\n",
       "      <td>No</td>\n",
       "      <td>Computer</td>\n",
       "      <td>...</td>\n",
       "      <td>Some support from other resources</td>\n",
       "      <td>-0.5687</td>\n",
       "      <td>-0.8314</td>\n",
       "      <td>0.8462</td>\n",
       "      <td>-0.3475</td>\n",
       "      <td>2.85278</td>\n",
       "      <td>133.71140</td>\n",
       "      <td>36.0</td>\n",
       "      <td>11.46442</td>\n",
       "      <td>03MAY23:10:11:34</td>\n",
       "    </tr>\n",
       "    <tr>\n",
       "      <th>2</th>\n",
       "      <td>Albania</td>\n",
       "      <td>Albania</td>\n",
       "      <td>800003.0</td>\n",
       "      <td>08MS</td>\n",
       "      <td>Albania</td>\n",
       "      <td>ALB - stratum 06: Urban / South / Private</td>\n",
       "      <td>Albania</td>\n",
       "      <td>Albania</td>\n",
       "      <td>No</td>\n",
       "      <td>Computer</td>\n",
       "      <td>...</td>\n",
       "      <td>Some support from other resources</td>\n",
       "      <td>0.1896</td>\n",
       "      <td>-0.8314</td>\n",
       "      <td>-0.8711</td>\n",
       "      <td>0.4409</td>\n",
       "      <td>7.40007</td>\n",
       "      <td>25.61079</td>\n",
       "      <td>3.0</td>\n",
       "      <td>29.73857</td>\n",
       "      <td>03MAY23:10:11:34</td>\n",
       "    </tr>\n",
       "    <tr>\n",
       "      <th>3</th>\n",
       "      <td>Albania</td>\n",
       "      <td>Albania</td>\n",
       "      <td>800004.0</td>\n",
       "      <td>08MS</td>\n",
       "      <td>Albania</td>\n",
       "      <td>ALB - stratum 05: Urban / South / Public</td>\n",
       "      <td>Albania</td>\n",
       "      <td>Albania</td>\n",
       "      <td>No</td>\n",
       "      <td>Computer</td>\n",
       "      <td>...</td>\n",
       "      <td>NaN</td>\n",
       "      <td>NaN</td>\n",
       "      <td>NaN</td>\n",
       "      <td>NaN</td>\n",
       "      <td>-0.7414</td>\n",
       "      <td>4.34319</td>\n",
       "      <td>192.24130</td>\n",
       "      <td>39.0</td>\n",
       "      <td>17.45392</td>\n",
       "      <td>03MAY23:10:11:34</td>\n",
       "    </tr>\n",
       "    <tr>\n",
       "      <th>4</th>\n",
       "      <td>Albania</td>\n",
       "      <td>Albania</td>\n",
       "      <td>800005.0</td>\n",
       "      <td>08MS</td>\n",
       "      <td>Albania</td>\n",
       "      <td>ALB - stratum 03: Urban / Center / Public</td>\n",
       "      <td>Albania</td>\n",
       "      <td>Albania</td>\n",
       "      <td>No</td>\n",
       "      <td>Computer</td>\n",
       "      <td>...</td>\n",
       "      <td>A lot of support from other resources</td>\n",
       "      <td>0.6649</td>\n",
       "      <td>-0.8314</td>\n",
       "      <td>0.8462</td>\n",
       "      <td>-0.0102</td>\n",
       "      <td>7.52060</td>\n",
       "      <td>45.69535</td>\n",
       "      <td>5.0</td>\n",
       "      <td>30.22293</td>\n",
       "      <td>03MAY23:10:11:34</td>\n",
       "    </tr>\n",
       "  </tbody>\n",
       "</table>\n",
       "<p>5 rows × 431 columns</p>\n",
       "</div>"
      ],
      "text/plain": [
       "       CNT  CNTRYID  CNTSCHID   CYC   NatCen  \\\n",
       "0  Albania  Albania  800001.0  08MS  Albania   \n",
       "1  Albania  Albania  800002.0  08MS  Albania   \n",
       "2  Albania  Albania  800003.0  08MS  Albania   \n",
       "3  Albania  Albania  800004.0  08MS  Albania   \n",
       "4  Albania  Albania  800005.0  08MS  Albania   \n",
       "\n",
       "                                             STRATUM SUBNATIO   REGION OECD  \\\n",
       "0           ALB - stratum 05: Urban / South / Public  Albania  Albania   No   \n",
       "1  ALB - stratum 07: Rural / North / Public and P...  Albania  Albania   No   \n",
       "2          ALB - stratum 06: Urban / South / Private  Albania  Albania   No   \n",
       "3           ALB - stratum 05: Urban / South / Public  Albania  Albania   No   \n",
       "4          ALB - stratum 03: Urban / Center / Public  Albania  Albania   No   \n",
       "\n",
       "  ADMINMODE  ...                                SCSUPRT PROBSCRI SCPREPBP  \\\n",
       "0  Computer  ...  A lot of support from other resources   0.7965  -0.8314   \n",
       "1  Computer  ...      Some support from other resources  -0.5687  -0.8314   \n",
       "2  Computer  ...      Some support from other resources   0.1896  -0.8314   \n",
       "3  Computer  ...                                    NaN      NaN      NaN   \n",
       "4  Computer  ...  A lot of support from other resources   0.6649  -0.8314   \n",
       "\n",
       "  SCPREPAP DIGPREP W_SCHGRNRABWT W_FSTUWT_SCH_SUM W_FSTUWT_SCH_N     SENWT  \\\n",
       "0   0.8462  0.5908       1.43376        160.58080           41.0   5.76182   \n",
       "1   0.8462 -0.3475       2.85278        133.71140           36.0  11.46442   \n",
       "2  -0.8711  0.4409       7.40007         25.61079            3.0  29.73857   \n",
       "3      NaN -0.7414       4.34319        192.24130           39.0  17.45392   \n",
       "4   0.8462 -0.0102       7.52060         45.69535            5.0  30.22293   \n",
       "\n",
       "              VER_DAT  \n",
       "0    03MAY23:10:11:34  \n",
       "1    03MAY23:10:11:34  \n",
       "2    03MAY23:10:11:34  \n",
       "3    03MAY23:10:11:34  \n",
       "4    03MAY23:10:11:34  \n",
       "\n",
       "[5 rows x 431 columns]"
      ]
     },
     "execution_count": 7,
     "metadata": {},
     "output_type": "execute_result"
    }
   ],
   "source": [
    "sch_qqq.head()"
   ]
  },
  {
   "cell_type": "code",
   "execution_count": 11,
   "id": "3d416a91",
   "metadata": {},
   "outputs": [
    {
     "data": {
      "text/plain": [
       "SC017Q08NA\n",
       "Not at all        8846\n",
       "Very little       4712\n",
       "To some extent    3787\n",
       "A lot             2364\n",
       "Name: count, dtype: int64"
      ]
     },
     "execution_count": 11,
     "metadata": {},
     "output_type": "execute_result"
    }
   ],
   "source": [
    "sch_qqq['SC017Q08NA'].value_counts()"
   ]
  }
 ],
 "metadata": {
  "kernelspec": {
   "display_name": "Python 3 (ipykernel)",
   "language": "python",
   "name": "python3"
  },
  "language_info": {
   "codemirror_mode": {
    "name": "ipython",
    "version": 3
   },
   "file_extension": ".py",
   "mimetype": "text/x-python",
   "name": "python",
   "nbconvert_exporter": "python",
   "pygments_lexer": "ipython3",
   "version": "3.12.2"
  }
 },
 "nbformat": 4,
 "nbformat_minor": 5
}
